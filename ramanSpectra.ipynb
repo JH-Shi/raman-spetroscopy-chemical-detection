{
  "nbformat": 4,
  "nbformat_minor": 0,
  "metadata": {
    "colab": {
      "name": "ramanSpectra.ipynb",
      "version": "0.3.2",
      "provenance": [],
      "collapsed_sections": [],
      "include_colab_link": true
    },
    "kernelspec": {
      "name": "python3",
      "display_name": "Python 3"
    },
    "accelerator": "GPU"
  },
  "cells": [
    {
      "cell_type": "markdown",
      "metadata": {
        "id": "view-in-github",
        "colab_type": "text"
      },
      "source": [
        "<a href=\"https://colab.research.google.com/github/SaashaJoshi/signal-processing/blob/master/ramanSpectra.ipynb\" target=\"_parent\"><img src=\"https://colab.research.google.com/assets/colab-badge.svg\" alt=\"Open In Colab\"/></a>"
      ]
    },
    {
      "cell_type": "code",
      "metadata": {
        "id": "RO7Y2cSEtDli",
        "colab_type": "code",
        "colab": {}
      },
      "source": [
        "import numpy as np\n",
        "import matplotlib.pyplot as plt\n",
        "import pandas as pd\n",
        "import io"
      ],
      "execution_count": 0,
      "outputs": []
    },
    {
      "cell_type": "code",
      "metadata": {
        "id": "4XBrnnoctO3V",
        "colab_type": "code",
        "colab": {}
      },
      "source": [
        "from google.colab import files\n",
        "uploaded = files.upload()"
      ],
      "execution_count": 0,
      "outputs": []
    },
    {
      "cell_type": "code",
      "metadata": {
        "id": "IhapMlQ5ty81",
        "colab_type": "code",
        "colab": {}
      },
      "source": [
        "#df= pd.read_csv(io.StringIO(uploaded['Actinolite.txt'].decode('utf-8')))\n",
        "#np.loadtxt('Actinolite.txt', usecols=(0, 1), unpack=True)"
      ],
      "execution_count": 0,
      "outputs": []
    },
    {
      "cell_type": "code",
      "metadata": {
        "id": "jrmmSQFGvBry",
        "colab_type": "code",
        "colab": {}
      },
      "source": [
        "df=pd.read_csv('Actinolite.txt', header=None)\n",
        "df.columns=['w', 'i']"
      ],
      "execution_count": 0,
      "outputs": []
    },
    {
      "cell_type": "code",
      "metadata": {
        "id": "ySNkkEq_wGyD",
        "colab_type": "code",
        "colab": {}
      },
      "source": [
        "df"
      ],
      "execution_count": 0,
      "outputs": []
    },
    {
      "cell_type": "code",
      "metadata": {
        "id": "iUUs3kHRwOEF",
        "colab_type": "code",
        "colab": {}
      },
      "source": [
        "w=df.iloc[:, :-1]\n",
        "i=df.iloc[:, -1]"
      ],
      "execution_count": 0,
      "outputs": []
    },
    {
      "cell_type": "code",
      "metadata": {
        "id": "OxdHkC6YxYDd",
        "colab_type": "code",
        "colab": {}
      },
      "source": [
        "with plt.style.context(('ggplot')):\n",
        "    plt.plot(w, i.T) #T: transpose \n",
        "    plt.xlabel('Raman Shift (cm-1)')\n",
        "    plt.ylabel('Intensity')\n",
        "    plt.title('Raman Spectra: Actinolite')\n",
        "    plt.show()"
      ],
      "execution_count": 0,
      "outputs": []
    }
  ]
}