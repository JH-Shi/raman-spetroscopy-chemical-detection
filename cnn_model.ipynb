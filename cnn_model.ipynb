{
  "nbformat": 4,
  "nbformat_minor": 0,
  "metadata": {
    "colab": {
      "name": "cnn_model.ipynb",
      "version": "0.3.2",
      "provenance": [],
      "collapsed_sections": [],
      "include_colab_link": true
    },
    "kernelspec": {
      "name": "python3",
      "display_name": "Python 3"
    },
    "accelerator": "GPU"
  },
  "cells": [
    {
      "cell_type": "markdown",
      "metadata": {
        "id": "view-in-github",
        "colab_type": "text"
      },
      "source": [
        "<a href=\"https://colab.research.google.com/github/SaashaJoshi/raman-spetroscopy-chemical-detection/blob/master/cnn_model.ipynb\" target=\"_parent\"><img src=\"https://colab.research.google.com/assets/colab-badge.svg\" alt=\"Open In Colab\"/></a>"
      ]
    },
    {
      "cell_type": "code",
      "metadata": {
        "id": "laAUzfVGo4W3",
        "colab_type": "code",
        "colab": {}
      },
      "source": [
        "import tensorflow as tf\n",
        "from tensorflow import keras\n",
        "import numpy as np\n",
        "import matplotlib.pyplot as plt"
      ],
      "execution_count": 0,
      "outputs": []
    },
    {
      "cell_type": "code",
      "metadata": {
        "id": "-kHuW9IeeVK9",
        "colab_type": "code",
        "colab": {}
      },
      "source": [
        ""
      ],
      "execution_count": 0,
      "outputs": []
    },
    {
      "cell_type": "code",
      "metadata": {
        "id": "2Gg1XiBmqTK9",
        "colab_type": "code",
        "colab": {}
      },
      "source": [
        "from keras.models import Sequential\n",
        "from keras.layers import Dense\n",
        "from keras.layers import Conv2D\n",
        "from keras.layers import Flatten\n",
        "from keras.layers import Dropout\n",
        "from keras.layers import LeakyReLU\n",
        "from keras.preprocessing.image import ImageDataGenerator"
      ],
      "execution_count": 0,
      "outputs": []
    },
    {
      "cell_type": "code",
      "metadata": {
        "id": "SnDemSYibxiV",
        "colab_type": "code",
        "colab": {}
      },
      "source": [
        "# DATA VARIABLES\n",
        "batch_size=\n",
        "epochs=\n",
        "num_classes="
      ],
      "execution_count": 0,
      "outputs": []
    },
    {
      "cell_type": "code",
      "metadata": {
        "id": "0ijjA-s8Ywn6",
        "colab_type": "code",
        "colab": {}
      },
      "source": [
        "# DATA AUGMENTATION\n",
        "data_gen=ImageDataGenerator(rotation_range=15, \n",
        "                           width_shift_range=0.15, \n",
        "                           height_shift_range=0.15, \n",
        "                           zoom_range=0.15)\n",
        "data_gen.fit(x_train)"
      ],
      "execution_count": 0,
      "outputs": []
    },
    {
      "cell_type": "code",
      "metadata": {
        "id": "AAJUAjlCYzNv",
        "colab_type": "code",
        "colab": {}
      },
      "source": [
        "# CNN MODEL\n",
        "model=Sequential()\n",
        "model.add(Conv2D(activation='relu', input_shape=input_shape))\n",
        "model.add(LeakyReLU)\n",
        "model.add(MaxPooling2D((2, 2), strides=(2, 2), padding='valid'))\n",
        "\n",
        "model.add(Conv2D)\n",
        "model.add(LeakyReLU)\n",
        "model.add(MaxPooling2D((2, 2), strides=(2, 2), padding='valid'))\n",
        "\n",
        "model.add(Conv2D)\n",
        "model.add(LeakyReLU)\n",
        "model.add(MaxPooling2D((2, 2), strides=(2, 2), padding='valid'))\n",
        "\n",
        "model.add(Flatten)\n",
        "model.add(Dense(activation='relu'))\n",
        "model.add(Dropout(0.5))\n",
        "model.add(Dense(n_labels, activation='softmax'))\n",
        "\n",
        "model.summary()"
      ],
      "execution_count": 0,
      "outputs": []
    },
    {
      "cell_type": "code",
      "metadata": {
        "id": "EalTYikrrWbx",
        "colab_type": "code",
        "colab": {}
      },
      "source": [
        "# MODEL COMPILE\n",
        "model.compile(optimizer='rmsprop', \n",
        "             loss='categorical_crossentropy', \n",
        "             metrics=['accuracy'])"
      ],
      "execution_count": 0,
      "outputs": []
    },
    {
      "cell_type": "code",
      "metadata": {
        "id": "fbGx_TeBbg9X",
        "colab_type": "code",
        "colab": {}
      },
      "source": [
        "# CALLBACK\n",
        "callbacks="
      ],
      "execution_count": 0,
      "outputs": []
    },
    {
      "cell_type": "code",
      "metadata": {
        "id": "wCTJaDMQrqN6",
        "colab_type": "code",
        "colab": {}
      },
      "source": [
        "# FIT TRAIN MODEL\n",
        "model.fit(x_train, y_train, batch_size=batch_size, epochs=epochs, , verbose=1, validation_data=(x_test, y_test), validation_split=0.1, shuffle=True, callbacks=[calbacks])"
      ],
      "execution_count": 0,
      "outputs": []
    },
    {
      "cell_type": "code",
      "metadata": {
        "id": "TyBtucDrsEBV",
        "colab_type": "code",
        "colab": {}
      },
      "source": [
        "train_score=model.evaluate(x_train, y_trainn, verbose=1)\n",
        "print('Train Loss: {}, Train Accuracy: {}'.format(train_score[0], train_score[1]))"
      ],
      "execution_count": 0,
      "outputs": []
    },
    {
      "cell_type": "code",
      "metadata": {
        "id": "9jkKbnc2sMFp",
        "colab_type": "code",
        "colab": {}
      },
      "source": [
        "test_score=model.eva;uate(x_test, y_test, verbose=1)\n",
        "print('Test Loss: {}, Test Accuracy: {}'.format(test_score[0], test_score[1]))"
      ],
      "execution_count": 0,
      "outputs": []
    },
    {
      "cell_type": "code",
      "metadata": {
        "id": "uzVSwutmslK0",
        "colab_type": "code",
        "colab": {}
      },
      "source": [
        ""
      ],
      "execution_count": 0,
      "outputs": []
    }
  ]
}