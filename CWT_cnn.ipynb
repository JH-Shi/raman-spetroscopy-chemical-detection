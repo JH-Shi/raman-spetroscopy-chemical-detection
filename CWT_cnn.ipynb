{
  "nbformat": 4,
  "nbformat_minor": 0,
  "metadata": {
    "colab": {
      "name": "CWT_cnn.ipynb",
      "version": "0.3.2",
      "provenance": [],
      "private_outputs": true,
      "collapsed_sections": [],
      "include_colab_link": true
    },
    "kernelspec": {
      "name": "python3",
      "display_name": "Python 3"
    },
    "accelerator": "GPU"
  },
  "cells": [
    {
      "cell_type": "markdown",
      "metadata": {
        "id": "view-in-github",
        "colab_type": "text"
      },
      "source": [
        "<a href=\"https://colab.research.google.com/github/SaashaJoshi/signal-processing/blob/master/CWT_cnn.ipynb\" target=\"_parent\"><img src=\"https://colab.research.google.com/assets/colab-badge.svg\" alt=\"Open In Colab\"/></a>"
      ]
    },
    {
      "cell_type": "code",
      "metadata": {
        "id": "laAUzfVGo4W3",
        "colab_type": "code",
        "colab": {}
      },
      "source": [
        "import tensorflow as tf\n",
        "from tensorflow import keras\n",
        "import numpy as np\n",
        "import matplotlib.pyplot as plt"
      ],
      "execution_count": 0,
      "outputs": []
    },
    {
      "cell_type": "code",
      "metadata": {
        "id": "VVFDqzQBtUkh",
        "colab_type": "code",
        "colab": {}
      },
      "source": [
        "img_x=\n",
        "img_y=\n",
        "img_z=\n",
        "input_shape=(img_x, img_y, img_z)"
      ],
      "execution_count": 0,
      "outputs": []
    },
    {
      "cell_type": "code",
      "metadata": {
        "id": "krA0X4V2tLkr",
        "colab_type": "code",
        "colab": {}
      },
      "source": [
        "batch_size=\n",
        "epochs=\n",
        "num_classes="
      ],
      "execution_count": 0,
      "outputs": []
    },
    {
      "cell_type": "code",
      "metadata": {
        "id": "XU03W5Rmph31",
        "colab_type": "code",
        "colab": {}
      },
      "source": [
        "x_train=x_train.astype('float32')\n",
        "x_test=x_test.astype('float32')\n",
        "\n",
        "y_train=keras.utils.to_categorical(y_train, num_classes)\n",
        "y_test=keras.utils.to_categorical(y_test, num_classes)"
      ],
      "execution_count": 0,
      "outputs": []
    },
    {
      "cell_type": "code",
      "metadata": {
        "id": "2Gg1XiBmqTK9",
        "colab_type": "code",
        "colab": {}
      },
      "source": [
        "model=keras.Sequential([\n",
        "    keras.layers.Conv2D(32, kernel_size=(5, 5), strides=(1, 1), activation=tf.nn.relu, input_shape=input_shape), \n",
        "    keras.layers.MaxPooling2D((2, 2), strides=(2, 2)), \n",
        "    keras.layers.Conv2D(64, (5, 5), activation=tf.nn.relu), \n",
        "    keras.layers.MaxPooling2D(2, 2), \n",
        "    keras.layers.Flatten(), \n",
        "    keras.layers.Dense(1000, activation=tf.nn.relu), \n",
        "    keras.layers.Dense(num_classes, activation=tf.nn.softmax)\n",
        "])"
      ],
      "execution_count": 0,
      "outputs": []
    },
    {
      "cell_type": "code",
      "metadata": {
        "id": "EalTYikrrWbx",
        "colab_type": "code",
        "colab": {}
      },
      "source": [
        "model.compile(loss=keras.losses.categorical_crossentropy, \n",
        "             optimizer=keras.optimizers.Adam(), \n",
        "             metrics=['accuracy'])"
      ],
      "execution_count": 0,
      "outputs": []
    },
    {
      "cell_type": "code",
      "metadata": {
        "id": "wCTJaDMQrqN6",
        "colab_type": "code",
        "colab": {}
      },
      "source": [
        "model.fit(x_train, y_train, batch_size=batch_size, epochs=epochs, , verbose=1, validation_data=(x_test, y_test), callbacks=[history])"
      ],
      "execution_count": 0,
      "outputs": []
    },
    {
      "cell_type": "code",
      "metadata": {
        "id": "TyBtucDrsEBV",
        "colab_type": "code",
        "colab": {}
      },
      "source": [
        "train_score=model.evaluate(x_train, y_trainn, verbose=1)\n",
        "print('Train Loss: {}, Train Accuracy: {}'.format(train_score[0], train_score[1]))"
      ],
      "execution_count": 0,
      "outputs": []
    },
    {
      "cell_type": "code",
      "metadata": {
        "id": "9jkKbnc2sMFp",
        "colab_type": "code",
        "colab": {}
      },
      "source": [
        "test_score=model.eva;uate(x_test, y_test, verbose=1)\n",
        "print('Test Loss: {}, Test Accuracy: {}'.format(test_score[0], test_score[1]))"
      ],
      "execution_count": 0,
      "outputs": []
    },
    {
      "cell_type": "code",
      "metadata": {
        "id": "uzVSwutmslK0",
        "colab_type": "code",
        "colab": {}
      },
      "source": [
        ""
      ],
      "execution_count": 0,
      "outputs": []
    }
  ]
}