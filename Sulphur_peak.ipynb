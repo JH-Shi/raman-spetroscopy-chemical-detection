{
 "cells": [
  {
   "cell_type": "code",
   "execution_count": null,
   "metadata": {
    "hide_input": true,
    "inputHidden": true
   },
   "outputs": [
    {
     "data": {
      "text/html": [
       "<span style=\"color:red; font-family:Helvetica Neue, Helvetica, Arial, sans-serif; font-size:2em;\">An Exception was encountered at 'In [8]'.</span>"
      ]
     },
     "metadata": {},
     "output_type": "display_data"
    }
   ],
   "source": [
    "%%html\n",
    "<span style=\"color:red; font-family:Helvetica Neue, Helvetica, Arial, sans-serif; font-size:2em;\">An Exception was encountered at 'In [8]'.</span>"
   ]
  },
  {
   "cell_type": "markdown",
   "metadata": {
    "colab_type": "text",
    "id": "view-in-github",
    "papermill": {
     "duration": 0.03163,
     "end_time": "2019-07-26T13:18:29.685596",
     "exception": false,
     "start_time": "2019-07-26T13:18:29.653966",
     "status": "completed"
    },
    "tags": []
   },
   "source": [
    "<a href=\"https://colab.research.google.com/github/SaashaJoshi/raman-spetroscopy-chemical-detection/blob/master/raman_peak.ipynb\" target=\"_parent\"><img src=\"https://colab.research.google.com/assets/colab-badge.svg\" alt=\"Open In Colab\"/></a>"
   ]
  },
  {
   "cell_type": "code",
   "execution_count": 1,
   "metadata": {
    "colab": {},
    "colab_type": "code",
    "id": "zZ6eEgml180T",
    "papermill": {
     "duration": 0.296695,
     "end_time": "2019-07-26T13:18:30.000046",
     "exception": false,
     "start_time": "2019-07-26T13:18:29.703351",
     "status": "completed"
    },
    "tags": []
   },
   "outputs": [],
   "source": [
    "import numpy as np\n",
    "import matplotlib.pyplot as plt\n",
    "import pandas as pd"
   ]
  },
  {
   "cell_type": "code",
   "execution_count": 2,
   "metadata": {
    "papermill": {
     "duration": 0.195963,
     "end_time": "2019-07-26T13:18:30.211717",
     "exception": false,
     "start_time": "2019-07-26T13:18:30.015754",
     "status": "completed"
    },
    "tags": [
     "parameters"
    ]
   },
   "outputs": [],
   "source": [
    "filename='Actinolite.txt'"
   ]
  },
  {
   "cell_type": "code",
   "execution_count": 3,
   "metadata": {
    "papermill": {
     "duration": 0.030573,
     "end_time": "2019-07-26T13:18:30.268980",
     "exception": false,
     "start_time": "2019-07-26T13:18:30.238407",
     "status": "completed"
    },
    "tags": [
     "injected-parameters"
    ]
   },
   "outputs": [],
   "source": [
    "# Parameters\n",
    "filename = \"Sulphur.txt\"\n"
   ]
  },
  {
   "cell_type": "code",
   "execution_count": 4,
   "metadata": {
    "colab": {},
    "colab_type": "code",
    "id": "ImTXvqAw2E8_",
    "papermill": {
     "duration": 0.108101,
     "end_time": "2019-07-26T13:18:30.388097",
     "exception": false,
     "start_time": "2019-07-26T13:18:30.279996",
     "status": "completed"
    },
    "tags": []
   },
   "outputs": [],
   "source": [
    "df=pd.read_csv(filename, header=None)\n",
    "df.columns=['w', 'i']"
   ]
  },
  {
   "cell_type": "code",
   "execution_count": 5,
   "metadata": {
    "colab": {},
    "colab_type": "code",
    "id": "GQvzeMKp2JNO",
    "papermill": {
     "duration": 0.049542,
     "end_time": "2019-07-26T13:18:30.457985",
     "exception": false,
     "start_time": "2019-07-26T13:18:30.408443",
     "status": "completed"
    },
    "tags": []
   },
   "outputs": [],
   "source": [
    "w=df.iloc[:, :-1]    # Intensity\n",
    "i=df.iloc[:, -1]     #Raman Shift"
   ]
  },
  {
   "cell_type": "code",
   "execution_count": 6,
   "metadata": {
    "colab": {
     "base_uri": "https://localhost:8080/",
     "height": 304
    },
    "colab_type": "code",
    "id": "-jC6UcRL2PPb",
    "outputId": "2e8b3c07-9064-4c9b-e56e-bd4455e4d9fd",
    "papermill": {
     "duration": 0.41515,
     "end_time": "2019-07-26T13:18:30.881896",
     "exception": false,
     "start_time": "2019-07-26T13:18:30.466746",
     "status": "completed"
    },
    "tags": []
   },
   "outputs": [
    {
     "data": {
      "image/png": "[encoded data removed]",
      "text/plain": [
       "<Figure size 432x288 with 1 Axes>"
      ]
     },
     "metadata": {},
     "output_type": "display_data"
    }
   ],
   "source": [
    "with plt.style.context(('ggplot')):\n",
    "    plt.plot(w, i.T) #T: transpose \n",
    "    plt.xlabel('Raman Shift (cm$^{-1}$)')\n",
    "    plt.ylabel('Intensity')\n",
    "    plt.title('Raman Spectra: {}'.format(filename))\n",
    "    plt.show()"
   ]
  },
  {
   "cell_type": "code",
   "execution_count": 7,
   "metadata": {
    "colab": {},
    "colab_type": "code",
    "id": "E4luysTn8tPq",
    "papermill": {
     "duration": 0.10001,
     "end_time": "2019-07-26T13:18:30.992661",
     "exception": false,
     "start_time": "2019-07-26T13:18:30.892651",
     "status": "completed"
    },
    "tags": []
   },
   "outputs": [],
   "source": [
    "vector=[rows.i for index, rows in df.iterrows()]"
   ]
  },
  {
   "cell_type": "code",
   "execution_count": 8,
   "metadata": {
    "colab": {
     "base_uri": "https://localhost:8080/",
     "height": 51
    },
    "colab_type": "code",
    "id": "bkngsbS72RDd",
    "outputId": "d2ad171f-5b72-4c55-f6c6-642fca10e880",
    "papermill": {
     "duration": 0.062221,
     "end_time": "2019-07-26T13:18:31.072015",
     "exception": true,
     "start_time": "2019-07-26T13:18:31.009794",
     "status": "failed"
    },
    "tags": []
   },
   "outputs": [
    {
     "ename": "ImportError",
     "evalue": "No module named scipy.signal",
     "output_type": "error",
     "traceback": [
      "\u001b[0;31m---------------------------------------------------------------------------\u001b[0m",
      "\u001b[0;31mImportError\u001b[0m                               Traceback (most recent call last)",
      "\u001b[0;32m<ipython-input-8-a62a1d3e36c8>\u001b[0m in \u001b[0;36m<module>\u001b[0;34m()\u001b[0m\n\u001b[0;32m----> 1\u001b[0;31m \u001b[0;32mimport\u001b[0m \u001b[0mscipy\u001b[0m\u001b[0;34m.\u001b[0m\u001b[0msignal\u001b[0m \u001b[0;32mas\u001b[0m \u001b[0mss\u001b[0m\u001b[0;34m\u001b[0m\u001b[0m\n\u001b[0m\u001b[1;32m      2\u001b[0m \u001b[0;34m\u001b[0m\u001b[0m\n\u001b[1;32m      3\u001b[0m \u001b[0mindices\u001b[0m\u001b[0;34m=\u001b[0m\u001b[0mss\u001b[0m\u001b[0;34m.\u001b[0m\u001b[0mfind_peaks_cwt\u001b[0m\u001b[0;34m(\u001b[0m\u001b[0mvector\u001b[0m\u001b[0;34m,\u001b[0m \u001b[0mnp\u001b[0m\u001b[0;34m.\u001b[0m\u001b[0marange\u001b[0m\u001b[0;34m(\u001b[0m\u001b[0;36m1\u001b[0m\u001b[0;34m,\u001b[0m \u001b[0;36m20\u001b[0m\u001b[0;34m)\u001b[0m\u001b[0;34m)\u001b[0m\u001b[0;34m\u001b[0m\u001b[0m\n\u001b[1;32m      4\u001b[0m \u001b[0mindices\u001b[0m\u001b[0;34m=\u001b[0m\u001b[0mnp\u001b[0m\u001b[0;34m.\u001b[0m\u001b[0marray\u001b[0m\u001b[0;34m(\u001b[0m\u001b[0mindices\u001b[0m\u001b[0;34m)\u001b[0m\u001b[0;34m-\u001b[0m\u001b[0;36m1\u001b[0m\u001b[0;34m\u001b[0m\u001b[0m\n\u001b[1;32m      5\u001b[0m \u001b[0;32mprint\u001b[0m\u001b[0;34m(\u001b[0m\u001b[0;34m'Peaks are at: {}'\u001b[0m\u001b[0;34m.\u001b[0m\u001b[0mformat\u001b[0m\u001b[0;34m(\u001b[0m\u001b[0mindices\u001b[0m\u001b[0;34m)\u001b[0m\u001b[0;34m)\u001b[0m\u001b[0;34m\u001b[0m\u001b[0m\n",
      "\u001b[0;31mImportError\u001b[0m: No module named scipy.signal"
     ]
    }
   ],
   "source": [
    "import scipy.signal as ss\n",
    "\n",
    "indices=ss.find_peaks_cwt(vector, np.arange(1, 20))\n",
    "indices=np.array(indices)-1\n",
    "print('Peaks are at: {}'.format(indices))"
   ]
  },
  {
   "cell_type": "code",
   "execution_count": null,
   "metadata": {
    "colab": {
     "base_uri": "https://localhost:8080/",
     "height": 34
    },
    "colab_type": "code",
    "id": "eZye8Fp1CnUi",
    "outputId": "98eb18e3-5ef8-49e9-fed5-5bcaf33ba9e2",
    "papermill": {
     "duration": null,
     "end_time": null,
     "exception": null,
     "start_time": null,
     "status": "pending"
    },
    "tags": []
   },
   "outputs": [],
   "source": [
    "print(plt.rcParams.get('figure.figsize'))\n",
    "\n",
    "fig_size = plt.rcParams[\"figure.figsize\"]\n",
    "fig_size[0] = 10\n",
    "fig_size[1] = 10\n",
    "plt.rcParams[\"figure.figsize\"] = fig_size"
   ]
  },
  {
   "cell_type": "code",
   "execution_count": null,
   "metadata": {
    "colab": {
     "base_uri": "https://localhost:8080/",
     "height": 630
    },
    "colab_type": "code",
    "id": "kGBZLGDR7JWN",
    "outputId": "4b2daf5b-5f64-4bf5-dfb5-ee51ed5608f1",
    "papermill": {
     "duration": null,
     "end_time": null,
     "exception": null,
     "start_time": null,
     "status": "pending"
    },
    "tags": []
   },
   "outputs": [],
   "source": [
    "with plt.style.context(('ggplot')):\n",
    "    indices=indices.tolist()\n",
    "    plt.plot(w, i.T, markevery=indices, marker='X', markerfacecolor='black', markeredgecolor='black') #T: transpose\n",
    "    plt.xlabel('Raman Shift (cm$^{-1}$)')\n",
    "    plt.ylabel('Intensity')\n",
    "    plt.title('Raman Spectra: {}'.format(filename))\n",
    "    plt.show()"
   ]
  },
  {
   "cell_type": "code",
   "execution_count": null,
   "metadata": {
    "colab": {
     "base_uri": "https://localhost:8080/",
     "height": 51
    },
    "colab_type": "code",
    "id": "5SclSmtuF9_d",
    "outputId": "9774159f-98aa-4ba6-e754-f3120ea20230",
    "papermill": {
     "duration": null,
     "end_time": null,
     "exception": null,
     "start_time": null,
     "status": "pending"
    },
    "tags": []
   },
   "outputs": [],
   "source": [
    "peak_intensity=[]\n",
    "peak_tuple=[]\n",
    "\n",
    "for index in indices:\n",
    "  peak_intensity.append(i[index])\n",
    "  peak_tuple.append((index, i[index]))\n",
    "\n",
    "highest_intensity=max(peak_intensity)\n",
    "print(highest_intensity)\n",
    "\n",
    "for index, val in peak_tuple:\n",
    "  if highest_intensity==val:\n",
    "    highest_peak=index\n",
    "    print(highest_peak)"
   ]
  },
  {
   "cell_type": "code",
   "execution_count": null,
   "metadata": {
    "colab": {
     "base_uri": "https://localhost:8080/",
     "height": 630
    },
    "colab_type": "code",
    "id": "SP9htlF5D_vX",
    "outputId": "d735730a-af24-43b8-f551-46e80aaad557",
    "papermill": {
     "duration": null,
     "end_time": null,
     "exception": null,
     "start_time": null,
     "status": "pending"
    },
    "tags": []
   },
   "outputs": [],
   "source": [
    "with plt.style.context(('ggplot')):\n",
    "    plt.plot(w, i.T, markevery=[highest_peak], marker='X', markerfacecolor='black', markeredgecolor='black') #T: transpose\n",
    "    plt.xlabel('Raman Shift (cm$^{-1}$)')\n",
    "    plt.ylabel('Intensity')\n",
    "    plt.title('Raman Spectra: {}'.format(filename))\n",
    "    plt.show()"
   ]
  }
 ],
 "metadata": {
  "accelerator": "GPU",
  "celltoolbar": "Tags",
  "colab": {
   "include_colab_link": true,
   "name": "raman_peak.ipynb",
   "provenance": [],
   "version": "0.3.2"
  },
  "kernelspec": {
   "display_name": "Python 2",
   "language": "python",
   "name": "python2"
  },
  "language_info": {
   "codemirror_mode": {
    "name": "ipython",
    "version": 2
   },
   "file_extension": ".py",
   "mimetype": "text/x-python",
   "name": "python",
   "nbconvert_exporter": "python",
   "pygments_lexer": "ipython2",
   "version": "2.7.15rc1"
  },
  "papermill": {
   "duration": 2.303518,
   "end_time": "2019-07-26T13:18:31.402238",
   "environment_variables": {},
   "exception": true,
   "input_path": "raman_peak_template.ipynb",
   "output_path": "Sulphur_peak.ipynb",
   "parameters": {
    "filename": "Sulphur.txt"
   },
   "start_time": "2019-07-26T13:18:29.098720",
   "version": "1.0.1"
  }
 },
 "nbformat": 4,
 "nbformat_minor": 1
}