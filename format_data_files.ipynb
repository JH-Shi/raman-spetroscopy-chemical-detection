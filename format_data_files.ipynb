{
 "cells": [
  {
   "cell_type": "code",
   "execution_count": 14,
   "metadata": {
    "colab": {},
    "colab_type": "code",
    "id": "A5BVfVahd2jT"
   },
   "outputs": [],
   "source": [
    "import numpy as np\n",
    "import pandas as pd\n",
    "import matplotlib.pyplot as plt\n",
    "import os\n",
    "import glob\n",
    "import shutil"
   ]
  },
  {
   "cell_type": "code",
   "execution_count": 24,
   "metadata": {
    "colab": {
     "base_uri": "https://localhost:8080/",
     "height": 282
    },
    "colab_type": "code",
    "id": "lCK5m9XIeUHe",
    "outputId": "8605a163-1b08-4c47-d49a-4231601fcc3e"
   },
   "outputs": [],
   "source": [
    "raw_files=glob.glob('raman_data/*.txt')\n",
    "n=len(raw_files)\n",
    "#print(n)\n",
    "#fname = raw_files[np.random.randint(n)]\n",
    "\n",
    "for fname in raw_files:\n",
    "  basename, extension=os.path.splitext(os.path.basename(fname))\n",
    "  compound, rlabel, ir_type, wv, n, orientation, data_status, rid = basename.split(\"__\")\n",
    "  \n",
    "  path=os.path.join('raman_data', '{}/{}'.format(data_status, compound))\n",
    "  os.makedirs(path, exist_ok=True)\n",
    "  #print(path)\n",
    "  \n",
    "  shutil.copy(fname, path)"
   ]
  },
  {
   "cell_type": "code",
   "execution_count": 32,
   "metadata": {
    "colab": {
     "base_uri": "https://localhost:8080/",
     "height": 231
    },
    "colab_type": "code",
    "id": "_tyHa7iMfHzI",
    "outputId": "6397a51c-b6dc-4adf-de1f-af2ad9a4b605"
   },
   "outputs": [
    {
     "name": "stdout",
     "output_type": "stream",
     "text": [
      "raman_data/Danburite__R040013-3__Raman__514__90__ccw__Raman_Data_Processed__3450.txt of 3696 files\n",
      "(1095, 2)\n",
      "[[ 103.247    0.   ]\n",
      " [ 104.64    96.431]\n",
      " [ 106.032   32.189]\n",
      " ...\n",
      " [1500.259   62.646]\n",
      " [1501.434    3.152]\n",
      " [1502.608    0.   ]]\n"
     ]
    },
    {
     "data": {
      "image/png": "[encoded data removed]",
      "text/plain": [
       "<Figure size 432x288 with 1 Axes>"
      ]
     },
     "metadata": {
      "needs_background": "light"
     },
     "output_type": "display_data"
    }
   ],
   "source": [
    "data=np.genfromtxt(fname, \n",
    "                  dtype=None, \n",
    "                  comments='##', \n",
    "                  delimiter=',', \n",
    "                  names=['Intensity', 'Raman_shift'])\n",
    "\n",
    "print('{} of {} files'.format(fname, len(raw_files)))\n",
    "#print(data['Intensity'])\n",
    "#print(data['Raman_shift'])\n",
    "plt.plot(data['Intensity'], data['Raman_shift'])\n",
    "dx=np.matrix([data['Intensity'], data['Raman_shift']]).transpose()\n",
    "print(dx.shape)\n",
    "print(dx)"
   ]
  },
  {
   "cell_type": "code",
   "execution_count": 0,
   "metadata": {
    "colab": {},
    "colab_type": "code",
    "id": "EZmqWdO8jLL5"
   },
   "outputs": [],
   "source": []
  }
 ],
 "metadata": {
  "colab": {
   "name": "format_data_files.ipynb",
   "provenance": [],
   "version": "0.3.2"
  },
  "kernelspec": {
   "display_name": "Python 3",
   "language": "python",
   "name": "python3"
  },
  "language_info": {
   "codemirror_mode": {
    "name": "ipython",
    "version": 3
   },
   "file_extension": ".py",
   "mimetype": "text/x-python",
   "name": "python",
   "nbconvert_exporter": "python",
   "pygments_lexer": "ipython3",
   "version": "3.7.3"
  }
 },
 "nbformat": 4,
 "nbformat_minor": 1
}
